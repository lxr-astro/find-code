{
 "cells": [
  {
   "cell_type": "code",
   "outputs": [
    {
     "name": "stdout",
     "output_type": "stream",
     "text": [
      "Python 3.6.13 :: Anaconda, Inc.\r\n"
     ]
    }
   ],
   "source": [
    "!python -V\n"
   ],
   "metadata": {
    "collapsed": false,
    "ExecuteTime": {
     "end_time": "2024-05-16T07:26:06.401123Z",
     "start_time": "2024-05-16T07:26:06.257056Z"
    }
   },
   "id": "38ecd657a43c66bb",
   "execution_count": 1
  },
  {
   "cell_type": "code",
   "outputs": [
    {
     "data": {
      "text/plain": "interactive(children=(IntSlider(value=267, description='X channel', max=533), IntSlider(value=266, description…",
      "application/vnd.jupyter.widget-view+json": {
       "version_major": 2,
       "version_minor": 0,
       "model_id": "e5ff05aa99ff48a7a68aad4db823b9a1"
      }
     },
     "metadata": {},
     "output_type": "display_data"
    },
    {
     "data": {
      "text/plain": "<function __main__.update_plots(x_channel, y_channel)>"
     },
     "execution_count": 1,
     "metadata": {},
     "output_type": "execute_result"
    }
   ],
   "source": [
    "import numpy as np\n",
    "import matplotlib.pyplot as plt\n",
    "from astropy.io import fits\n",
    "from astropy.wcs import WCS\n",
    "from ipywidgets import interact, widgets\n",
    "\n",
    "# 加载FITS数据\n",
    "fits_name = \"/Users/naoj306/Desktop/DB/SFP/AquilaRift_12CO_21.7arcsec_vel0.1_sph_v1.0.fits\"\n",
    "with fits.open(fits_name) as hdul:\n",
    "    data = hdul[0].data\n",
    "    header = hdul[0].header\n",
    "wcs = WCS(header)\n",
    "\n",
    "# 计算速度值\n",
    "velocities = (np.arange(header['NAXIS3']) - (header['CRPIX3']-1)) * header['CDELT3'] / 1000.0 + header['CRVAL3'] / 1000.0  # km/s\n",
    "\n",
    "# 自定义函数来同时更新XY图、VY图和XV图\n",
    "def update_plots(x_channel, y_channel):\n",
    "    ra_line = wcs.all_pix2world([[x_channel, 0, 0]], 0)[0][0]\n",
    "    dec_line = wcs.all_pix2world([[0, y_channel, 0]], 0)[0][1]\n",
    "    fig, axs = plt.subplots(2, 2, figsize=(14, 14))\n",
    "\n",
    "    # 确保所有的图像都是正方形\n",
    "    for ax in axs.flat:\n",
    "        ax.set_aspect('equal', 'box')\n",
    "\n",
    "    # XY图\n",
    "    xy_data = np.sum(data, axis=0)  # 对所有速度通道求和\n",
    "    im1 = axs[0, 0].imshow(xy_data, origin='lower', cmap='nipy_spectral', aspect='auto')\n",
    "    fig.colorbar(im1, ax=axs[0, 0], fraction=0.046, pad=0.04)\n",
    "    axs[0, 0].axvline(x=x_channel, color='white')\n",
    "    axs[0, 0].axhline(y=y_channel, color='white')\n",
    "    axs[0, 0].set_title('XY Map')\n",
    "\n",
    "    # VY图\n",
    "    vy_data = data[:, :, x_channel].T\n",
    "    im2 = axs[0, 1].imshow(vy_data, origin='lower', cmap='nipy_spectral', aspect='auto',\n",
    "                           extent=[velocities[0], velocities[-1], 0, data.shape[1]])\n",
    "    fig.colorbar(im2, ax=axs[0, 1], fraction=0.046, pad=0.04)\n",
    "    axs[0, 1].set_title('VY Map')\n",
    "\n",
    "    # XV图\n",
    "    xv_data = data[:, y_channel, :]\n",
    "    im3 = axs[1, 0].imshow(xv_data, origin='lower', cmap='nipy_spectral', aspect='auto',\n",
    "                           extent=[0, data.shape[2], velocities[0], velocities[-1]])\n",
    "    fig.colorbar(im3, ax=axs[1, 0], fraction=0.046, pad=0.04)\n",
    "    axs[1, 0].set_title('XV Map')\n",
    "\n",
    "    # 删除右下角的空图\n",
    "    fig.delaxes(axs[1, 1])\n",
    "\n",
    "    # 调整布局以避免重叠\n",
    "    plt.tight_layout()\n",
    "    plt.show()\n",
    "    return f\"Current RA: {ra_line:.4f} Degrees, DEC: {dec_line:.4f} Degrees\"\n",
    "\n",
    "# 创建交互式控件\n",
    "interact(update_plots,\n",
    "         x_channel=widgets.IntSlider(min=0, max=data.shape[2]-1, step=1, value=data.shape[2]//2, description='X channel'),\n",
    "         y_channel=widgets.IntSlider(min=0, max=data.shape[1]-1, step=1, value=data.shape[1]//2, description='Y channel'))\n"
   ],
   "metadata": {
    "collapsed": false,
    "is_executing": true,
    "ExecuteTime": {
     "start_time": "2024-05-30T09:31:58.558937Z"
    }
   },
   "id": "271603d7885e0dfa"
  },
  {
   "cell_type": "code",
   "outputs": [],
   "source": [],
   "metadata": {
    "collapsed": false
   },
   "id": "795b326e2e95819f"
  }
 ],
 "metadata": {
  "kernelspec": {
   "display_name": "Python 3",
   "language": "python",
   "name": "python3"
  },
  "language_info": {
   "codemirror_mode": {
    "name": "ipython",
    "version": 2
   },
   "file_extension": ".py",
   "mimetype": "text/x-python",
   "name": "python",
   "nbconvert_exporter": "python",
   "pygments_lexer": "ipython2",
   "version": "2.7.6"
  }
 },
 "nbformat": 4,
 "nbformat_minor": 5
}
