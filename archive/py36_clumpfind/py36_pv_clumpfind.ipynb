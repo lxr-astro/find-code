{
 "cells": [
  {
   "cell_type": "code",
   "outputs": [],
   "source": [
    "import matplotlib.pyplot as plt\n",
    "plt.rcParams['figure.facecolor'] = 'white'"
   ],
   "metadata": {
    "collapsed": false,
    "ExecuteTime": {
     "end_time": "2024-05-17T06:54:43.056692Z",
     "start_time": "2024-05-17T06:54:42.576104Z"
    }
   },
   "id": "50a0d51dee611528",
   "execution_count": 1
  },
  {
   "cell_type": "code",
   "outputs": [
    {
     "data": {
      "text/plain": "interactive(children=(IntSlider(value=267, description='X channel', max=533), Output()), _dom_classes=('widget…",
      "application/vnd.jupyter.widget-view+json": {
       "version_major": 2,
       "version_minor": 0,
       "model_id": "7daaeb597b844611ab34db8ecdfbf2d2"
      }
     },
     "metadata": {},
     "output_type": "display_data"
    },
    {
     "data": {
      "text/plain": "<function __main__.plot_vy_slice(x_channel)>"
     },
     "execution_count": 2,
     "metadata": {},
     "output_type": "execute_result"
    }
   ],
   "source": [
    "import numpy as np\n",
    "import matplotlib.pyplot as plt\n",
    "from astropy.io import fits\n",
    "from astropy.wcs import WCS\n",
    "from scipy.ndimage import median_filter\n",
    "from ipywidgets import interact, widgets\n",
    "\n",
    "fits_name_12co = \"/Users/naoj306/Desktop/DB/SFP/AquilaRift_12CO_21.7arcsec_vel0.1_sph_v1.0.fits\"\n",
    "fits_name_13co = \"/Users/naoj306/Desktop/DB/SFP/AquilaRift_13CO_22.1arcsec_vel0.1_sph_v1.0.fits\"\n",
    "\n",
    "with fits.open(fits_name_12co) as hdul_12co:\n",
    "    data_12co = hdul_12co[0].data\n",
    "    header_12co = hdul_12co[0].header\n",
    "\n",
    "with fits.open(fits_name_13co) as hdul_13co:\n",
    "    data_13co = hdul_13co[0].data\n",
    "    header_13co = hdul_13co[0].header\n",
    "\n",
    "velocities = (np.arange(header_12co['NAXIS3']) - (header_12co['CRPIX3']-1)) * header_12co['CDELT3'] / 1000.0 + header_12co['CRVAL3'] / 1000.0  # km/s\n",
    "\n",
    "\n",
    "def plot_vy_slice(x_channel):\n",
    "    plt.figure(figsize=(20, 8))\n",
    "\n",
    "    # Data for each molecule type\n",
    "    data_dict = {\n",
    "        \"12CO\": data_12co[:, :, x_channel],\n",
    "        \"13CO\": data_13co[:, :, x_channel]\n",
    "    }\n",
    "    \n",
    "    # Create plots for each molecule type\n",
    "    for i, (label, data) in enumerate(data_dict.items(), 1):\n",
    "        filtered_data = median_filter(data, size=(50,3))\n",
    "        diff_data = data - filtered_data\n",
    "\n",
    "        # Original data\n",
    "        tmax = np.nanmax(data)\n",
    "        ax = plt.subplot(2, 4, i * 4 - 3)\n",
    "        im = ax.imshow(data.T, origin='lower', aspect='auto', cmap='nipy_spectral', vmin=-tmax/3, vmax=tmax, extent=[velocities[0], velocities[-1], 0, data.shape[0]])\n",
    "        plt.colorbar(im, ax=ax, label='Temperature (K)')\n",
    "        plt.title(f'{label} VY Slice')\n",
    "\n",
    "        # Median filtered data\n",
    "        ax = plt.subplot(2, 4, i * 4 - 2)\n",
    "        im = ax.imshow(filtered_data.T, origin='lower', aspect='auto', cmap='nipy_spectral', vmin=-tmax/3, vmax=tmax, extent=[velocities[0], velocities[-1], 0, data.shape[0]])\n",
    "        plt.colorbar(im, ax=ax, label='Temperature (K)')\n",
    "        plt.title(f'Median Filtered {label}')\n",
    "\n",
    "        # Difference data\n",
    "        tmax = np.nanmax(diff_data)\n",
    "        ax = plt.subplot(2, 4, i * 4 - 1)\n",
    "        im = ax.imshow(diff_data.T, origin='lower', aspect='auto', cmap='seismic', vmin=-tmax, vmax=tmax, extent=[velocities[0], velocities[-1], 0, data.shape[0]])\n",
    "        plt.colorbar(im, ax=ax, label='Temperature (K)')\n",
    "        plt.title('Difference')\n",
    "\n",
    "        # Blank panel, use it for 'difference data' as placeholder\n",
    "        ax = plt.subplot(2, 4, i * 4)\n",
    "        im = ax.imshow(diff_data.T, origin='lower', aspect='auto', cmap='nipy_spectral',extent=[velocities[0], velocities[-1], 0, data.shape[0]])\n",
    "        plt.colorbar(im, ax=ax, label='Temperature (K)')\n",
    "        plt.title('blank')\n",
    "\n",
    "    plt.tight_layout()  # Ensure subplots do not overlap\n",
    "    plt.show()\n",
    "\n",
    "interact(plot_vy_slice,\n",
    "         x_channel=widgets.IntSlider(min=0, max=data_12co.shape[2]-1, step=1, value=data_12co.shape[2]//2, description='X channel'))\n"
   ],
   "metadata": {
    "collapsed": false,
    "ExecuteTime": {
     "end_time": "2024-05-17T06:54:53.749803Z",
     "start_time": "2024-05-17T06:54:43.560136Z"
    }
   },
   "id": "d445eb35fa6b412e",
   "execution_count": 2
  },
  {
   "cell_type": "code",
   "outputs": [
    {
     "data": {
      "text/plain": "interactive(children=(IntSlider(value=267, description='X channel', max=533), Output()), _dom_classes=('widget…",
      "application/vnd.jupyter.widget-view+json": {
       "version_major": 2,
       "version_minor": 0,
       "model_id": "62d9cbb2a6a4468284779b849e8c69e5"
      }
     },
     "metadata": {},
     "output_type": "display_data"
    },
    {
     "data": {
      "text/plain": "<function __main__.plot_vy_slice(x_channel)>"
     },
     "execution_count": 59,
     "metadata": {},
     "output_type": "execute_result"
    }
   ],
   "source": [
    "from pycupid import clumpfind\n",
    "\n",
    "def plot_vy_slice(x_channel):\n",
    "    plt.figure(figsize=(20, 8))\n",
    "\n",
    "    # Data for each molecule type\n",
    "    data_dict = {\n",
    "        \"12CO\": data_12co[:, :, x_channel],\n",
    "        \"13CO\": data_13co[:, :, x_channel]\n",
    "    }\n",
    "    \n",
    "    # Create plots for each molecule type\n",
    "    for i, (label, data) in enumerate(data_dict.items(), 1):\n",
    "        filtered_data = median_filter(data, size=(30,30))\n",
    "        diff_data = data - filtered_data\n",
    "\n",
    "        # Original data\n",
    "        tmax = np.nanmax(data)\n",
    "        ax = plt.subplot(2, 4, i * 4 - 3)\n",
    "        im = ax.imshow(data.T, origin='lower', aspect='auto', cmap='nipy_spectral', vmin=-tmax/3, vmax=tmax, extent=[velocities[0], velocities[-1], 0, data.shape[0]])\n",
    "        plt.colorbar(im, ax=ax, label='Temperature (K)')\n",
    "        plt.title(f'{label} VY Slice')\n",
    "\n",
    "        # Median filtered data\n",
    "        ax = plt.subplot(2, 4, i * 4 - 2)\n",
    "        im = ax.imshow(filtered_data.T, origin='lower', aspect='auto', cmap='nipy_spectral', vmin=-tmax/3, vmax=tmax,  extent=[velocities[0], velocities[-1], 0, data.shape[0]])\n",
    "        plt.colorbar(im, ax=ax, label='Temperature (K)')\n",
    "        plt.title(f'Median Filtered {label}')\n",
    "\n",
    "        # Difference data\n",
    "        print(np.nanmax(diff_data), np.nanmin(diff_data))\n",
    "        tmax = np.nanmax(diff_data)\n",
    "        ax = plt.subplot(2, 4, i * 4 - 1)\n",
    "        im = ax.imshow(diff_data.T, origin='lower', aspect='auto', cmap='seismic', vmin=-tmax, vmax=tmax, extent=[velocities[0], velocities[-1], 0, data.shape[0]])\n",
    "        plt.colorbar(im, ax=ax, label='Temperature (K)')\n",
    "        plt.title('Difference')\n",
    "\n",
    "        # Clumpfind data\n",
    "        ax = plt.subplot(2, 4, i * 4)\n",
    "        threshold = 0.2\n",
    "        cf_result = clumpfind(diff_data, threshold)\n",
    "        if cf_result is not None:\n",
    "            cf = cf_result.astype(\"float32\")\n",
    "            cf_2 = cf.reshape(cf.shape[::-1])\n",
    "            im = ax.imshow(cf_2, origin='lower', aspect='auto', cmap='jet', extent=[velocities[0], velocities[-1], 0, data.shape[0]])\n",
    "            plt.colorbar(im, ax=ax, label='Clumpfind Result')\n",
    "            plt.title('Clumpfind Result Map')\n",
    "        else:\n",
    "            plt.title('No Clumps Found')\n",
    "\n",
    "    plt.tight_layout()  # Ensure subplots do not overlap\n",
    "    plt.show()\n",
    "\n",
    "interact(plot_vy_slice,\n",
    "         x_channel=widgets.IntSlider(min=0, max=data_12co.shape[2]-1, step=1, value=data_12co.shape[2]//2, description='X channel'))\n"
   ],
   "metadata": {
    "collapsed": false,
    "ExecuteTime": {
     "end_time": "2024-05-16T10:01:15.982272Z",
     "start_time": "2024-05-16T10:01:00.652204Z"
    }
   },
   "id": "97d2d8b2e10fc637",
   "execution_count": 59
  },
  {
   "cell_type": "code",
   "outputs": [
    {
     "name": "stdout",
     "output_type": "stream",
     "text": [
      "Diff_data saved for 12CO and 13CO at x_channel 360.\n"
     ]
    }
   ],
   "source": [
    "from scipy.ndimage import median_filter\n",
    "import numpy as np\n",
    "from astropy.io import fits\n",
    "\n",
    "# Assuming data_12co and data_13co are already loaded as shown in your initial code\n",
    "\n",
    "x_channel = 360\n",
    "fits_name_12co = \"/Users/naoj306/Desktop/DB/SFP/AquilaRift_12CO_21.7arcsec_vel0.1_sph_v1.0.fits\"\n",
    "\n",
    "# Process the data for 12CO and 13CO\n",
    "data_12co_slice = data_12co[:, :, x_channel]\n",
    "\n",
    "\n",
    "# Median filtering\n",
    "filtered_data_12co = median_filter(data_12co_slice, size=(1,99))\n",
    "\n",
    "\n",
    "# Compute the difference data\n",
    "diff_data_12co = data_12co_slice - filtered_data_12co\n",
    "\n",
    "\n",
    "# Save the difference data to a FITS file\n",
    "hdu_12co = fits.PrimaryHDU(diff_data_12co)\n",
    "\n",
    "hdul_12co = fits.HDUList([hdu_12co])\n",
    "\n",
    "\n",
    "# Write the FITS file\n",
    "hdul_12co.writeto('diff_data_12CO_x360_0199.fits', overwrite=True)\n",
    "\n",
    "\n",
    "print(\"Diff_data saved for 12CO and 13CO at x_channel 360.\")\n"
   ],
   "metadata": {
    "collapsed": false,
    "ExecuteTime": {
     "end_time": "2024-05-19T07:47:59.290301Z",
     "start_time": "2024-05-19T07:47:58.745077Z"
    }
   },
   "id": "55788f5cd249c6b5",
   "execution_count": 5
  },
  {
   "cell_type": "code",
   "outputs": [
    {
     "name": "stdout",
     "output_type": "stream",
     "text": [
      "Diff_data saved for 12CO and 13CO at x_channel 360.\n"
     ]
    }
   ],
   "source": [],
   "metadata": {
    "collapsed": false,
    "ExecuteTime": {
     "end_time": "2024-05-18T07:17:19.180097Z",
     "start_time": "2024-05-18T07:17:16.888578Z"
    }
   },
   "id": "78dad4773c88dbe0",
   "execution_count": 2
  },
  {
   "cell_type": "code",
   "outputs": [],
   "source": [],
   "metadata": {
    "collapsed": false
   },
   "id": "b86d49c1d11da25e"
  }
 ],
 "metadata": {
  "kernelspec": {
   "display_name": "Python 3",
   "language": "python",
   "name": "python3"
  },
  "language_info": {
   "codemirror_mode": {
    "name": "ipython",
    "version": 2
   },
   "file_extension": ".py",
   "mimetype": "text/x-python",
   "name": "python",
   "nbconvert_exporter": "python",
   "pygments_lexer": "ipython2",
   "version": "2.7.6"
  }
 },
 "nbformat": 4,
 "nbformat_minor": 5
}
