{
 "cells": [
  {
   "cell_type": "markdown",
   "source": [
    "复制list文件到指定dir"
   ],
   "metadata": {
    "collapsed": false
   },
   "id": "f2d8abece5cd6844"
  },
  {
   "cell_type": "code",
   "outputs": [],
   "source": [
    "import shutil\n",
    "import os\n",
    "\n",
    "# 设定源目录和目标目录\n",
    "source_dir = '/Users/naoj306/Desktop/find/slice_new_wcs/'\n",
    "target_dir = '/Users/naoj306/Desktop/find/slice_new_wcs_list_turn/'\n",
    "\n",
    "# 确保目标目录存在\n",
    "os.makedirs(target_dir, exist_ok=True)\n",
    "\n",
    "# 读取文件编号列表\n",
    "with open('list_turn.txt', 'r') as file:\n",
    "    file_numbers = file.read().split()\n",
    "\n",
    "# 遍历文件编号，复制文件\n",
    "for number in file_numbers:\n",
    "    filename = f'12CO_x{number}_updated.fits'\n",
    "    source_path = os.path.join(source_dir, filename)\n",
    "    target_path = os.path.join(target_dir, filename)\n",
    "\n",
    "    # 检查文件是否存在，然后复制\n",
    "    if os.path.exists(source_path):\n",
    "        shutil.copy(source_path, target_path)\n",
    "        print(f'Copied {filename}')\n",
    "    else:\n",
    "        print(f'File not found: {filename}')\n"
   ],
   "metadata": {
    "collapsed": false
   },
   "id": "5a18880dd4f47255",
   "execution_count": null
  },
  {
   "cell_type": "markdown",
   "source": [
    "转移list文件去指定dir"
   ],
   "metadata": {
    "collapsed": false
   },
   "id": "7a96f062ff029017"
  },
  {
   "cell_type": "code",
   "outputs": [],
   "source": [
    "import shutil\n",
    "import os\n",
    "\n",
    "# 定义源目录和目标目录\n",
    "source_dir = '/Users/naoj306/Desktop/find/slice_new_wcs_diff_1-99_fil_3-3'  # 替换为你的源目录路径\n",
    "target_dir = '/Users/naoj306/Desktop/find/slice_new_wcs_diff_1-99_fil_3-3/error'  # 替换为你的目标目录路径\n",
    "\n",
    "# 确保目标目录存在\n",
    "os.makedirs(target_dir, exist_ok=True)\n",
    "\n",
    "# 读取文件编号列表\n",
    "with open('list_error.txt', 'r') as file:\n",
    "    file_numbers = file.read().split()\n",
    "\n",
    "# 遍历文件编号，移动文件\n",
    "for number in file_numbers:\n",
    "    filename = f'12CO_x{number}_slice_diff_updated.fits'\n",
    "    source_path = os.path.join(source_dir, filename)\n",
    "    target_path = os.path.join(target_dir, filename)\n",
    "\n",
    "    # 检查源文件是否存在\n",
    "    if os.path.exists(source_path):\n",
    "        shutil.move(source_path, target_path)\n",
    "        print(f'Moved {filename} to {target_dir}')\n",
    "    else:\n",
    "        print(f'File not found: {filename}')\n"
   ],
   "metadata": {
    "collapsed": false
   },
   "id": "912006872950c3f1",
   "execution_count": null
  },
  {
   "cell_type": "markdown",
   "source": [
    "plot sch=360 1*4 vy slice: origin-median-diff-diffmedian"
   ],
   "metadata": {
    "collapsed": false
   },
   "id": "81e04fbcc961da28"
  },
  {
   "cell_type": "code",
   "outputs": [
    {
     "name": "stdout",
     "output_type": "stream",
     "text": [
      "Saved: slice_xch360_ra277.5127_filtered_diff.png\n"
     ]
    }
   ],
   "source": [
    "from astropy.io import fits\n",
    "import numpy as np\n",
    "from scipy.ndimage import generic_filter\n",
    "import os\n",
    "from astropy.wcs import WCS\n",
    "import matplotlib.pyplot as plt\n",
    "\n",
    "def nanmedian_filter(data):\n",
    "    return np.nanmedian(data)\n",
    "\n",
    "def generate_and_save_yv_slices_for_specific_x(fits_name, output_path, x_index):\n",
    "    with fits.open(fits_name) as hdul:\n",
    "        data = hdul[0].data\n",
    "        header = hdul[0].header\n",
    "    wcs = WCS(header)\n",
    "\n",
    "    # 转换速度单位到km/s\n",
    "    v_size = header['NAXIS3']\n",
    "    v_crpix = header['CRPIX3']\n",
    "    v_crval = header['CRVAL3'] / 1000.0  # m/s to km/s\n",
    "    v_cdelt = header['CDELT3'] / 1000.0  # m/s to km/s\n",
    "    velocities = (np.arange(v_size) - (v_crpix - 1)) * v_cdelt + v_crval\n",
    "\n",
    "    # 获取分子线信息\n",
    "    molecule = header.get('LINE', 'Unknown Molecule')\n",
    "\n",
    "    ra_deg = wcs.wcs_pix2world([[x_index, 0, 0]], 0)[0][0]\n",
    "\n",
    "    dec_pixels = np.arange(data.shape[1])\n",
    "    ra_pixels = np.full_like(dec_pixels, x_index)\n",
    "    world_coords = wcs.all_pix2world(np.vstack([ra_pixels, dec_pixels, np.zeros_like(dec_pixels)]).T, 0)\n",
    "    dec_deg = world_coords[:, 1]  # 获取赤纬度数\n",
    "\n",
    "    # 获取原始数据切片\n",
    "    data_slice = data[:, :, x_index].T  # 转置以匹配绘图的轴向\n",
    "\n",
    "    # 应用1x50 median filter，并自动忽略NaN\n",
    "    filtered_data = generic_filter(data_slice, nanmedian_filter, size=(50, 1))\n",
    "    diff_data = data_slice - filtered_data\n",
    "\n",
    "    # 应用3x3 median filter到diff数据\n",
    "    filtered_diff_data = generic_filter(diff_data, nanmedian_filter, size=(3, 3))\n",
    "\n",
    "    fig, axs = plt.subplots(1, 4, figsize=(28, 6), sharex=True)\n",
    "    fig.subplots_adjust(wspace=0.1, left=0.03, right=0.99, top=0.9, bottom=0.1)\n",
    "\n",
    "    # 原始数据图像\n",
    "    im1 = axs[0].imshow(data_slice, origin='lower', aspect='auto',\n",
    "                        extent=[velocities[0], velocities[-1], dec_deg.min(), dec_deg.max()],\n",
    "                        cmap='nipy_spectral', vmin=-1, vmax=9)\n",
    "    axs[0].set_title(f\"Original Data at RA {ra_deg:.4f} degree\")\n",
    "    axs[0].set_xlabel(\"Velocity (km/s)\")\n",
    "    axs[0].set_ylabel(\"Dec (degrees)\")\n",
    "    cbar1 = fig.colorbar(im1, ax=axs[0], orientation='vertical', label='Temperature (K)')\n",
    "\n",
    "    # 滤波后的数据图像\n",
    "    im2 = axs[1].imshow(filtered_data, origin='lower', aspect='auto',\n",
    "                        extent=[velocities[0], velocities[-1], dec_deg.min(), dec_deg.max()],\n",
    "                        cmap='nipy_spectral', vmin=-1, vmax=9)\n",
    "    axs[1].set_title(f\"Filtered Data at RA {ra_deg:.4f} degree\")\n",
    "    axs[1].set_xlabel(\"Velocity (km/s)\")\n",
    "    axs[1].set_ylabel(\"Dec (degrees)\")\n",
    "    cbar2 = fig.colorbar(im2, ax=axs[1], orientation='vertical', label='Temperature (K)')\n",
    "\n",
    "    # 差异图像\n",
    "    im3 = axs[2].imshow(diff_data, origin='lower', aspect='auto',\n",
    "                        extent=[velocities[0], velocities[-1], dec_deg.min(), dec_deg.max()],\n",
    "                        cmap='seismic', vmin=-6, vmax=6)\n",
    "    axs[2].set_title(f\"Difference Data at RA {ra_deg:.4f} degree\")\n",
    "    axs[2].set_xlabel(\"Velocity (km/s)\")\n",
    "    axs[2].set_ylabel(\"Dec (degrees)\")\n",
    "    cbar3 = fig.colorbar(im3, ax=axs[2], orientation='vertical', label='Temperature (K)')\n",
    "\n",
    "    # 3x3滤波后的差异图像\n",
    "    im4 = axs[3].imshow(filtered_diff_data, origin='lower', aspect='auto',\n",
    "                        extent=[velocities[0], velocities[-1], dec_deg.min(), dec_deg.max()],\n",
    "                        cmap='seismic', vmin=-6, vmax=6)\n",
    "    axs[3].set_title(f\"Filtered Difference Data at RA {ra_deg:.4f} degree\")\n",
    "    axs[3].set_xlabel(\"Velocity (km/s)\")\n",
    "    axs[3].set_ylabel(\"Dec (degrees)\")\n",
    "    cbar4 = fig.colorbar(im4, ax=axs[3], orientation='vertical', label='Temperature (K)')\n",
    "\n",
    "    plt.savefig(f\"{output_path}/slice_xch{x_index:03d}_ra{ra_deg:.4f}_filtered_diff.png\")\n",
    "    plt.close()\n",
    "    print(f\"Saved: slice_xch{x_index:03d}_ra{ra_deg:.4f}_filtered_diff.png\")\n",
    "\n",
    "\n",
    "fits_name = \"/Users/naoj306/Desktop/DB/SFP/AquilaRift_12CO_21.7arcsec_vel0.1_sph_v1.0.fits\"\n",
    "output_path = \"/Users/naoj306/Desktop/find_code/\"\n",
    "x_index = 360\n",
    "generate_and_save_yv_slices_for_specific_x(fits_name, output_path, x_index)\n"
   ],
   "metadata": {
    "collapsed": false,
    "ExecuteTime": {
     "end_time": "2024-06-29T04:17:57.775815Z",
     "start_time": "2024-06-29T04:17:25.656374Z"
    }
   },
   "id": "9d7727fafb2f3d19",
   "execution_count": 2
  },
  {
   "cell_type": "code",
   "outputs": [],
   "source": [],
   "metadata": {
    "collapsed": false
   },
   "id": "6c0d7af5230812bc"
  }
 ],
 "metadata": {
  "kernelspec": {
   "display_name": "Python 3",
   "language": "python",
   "name": "python3"
  },
  "language_info": {
   "codemirror_mode": {
    "name": "ipython",
    "version": 2
   },
   "file_extension": ".py",
   "mimetype": "text/x-python",
   "name": "python",
   "nbconvert_exporter": "python",
   "pygments_lexer": "ipython2",
   "version": "2.7.6"
  }
 },
 "nbformat": 4,
 "nbformat_minor": 5
}
