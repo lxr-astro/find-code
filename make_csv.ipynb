{
 "cells": [
  {
   "cell_type": "code",
   "execution_count": null,
   "id": "initial_id",
   "metadata": {
    "collapsed": true
   },
   "outputs": [],
   "source": []
  },
  {
   "cell_type": "markdown",
   "source": [
    "location txt folder to csv"
   ],
   "metadata": {
    "collapsed": false
   },
   "id": "8166522a4d599230"
  },
  {
   "cell_type": "code",
   "outputs": [],
   "source": [
    "import os\n",
    "import pandas as pd\n",
    "from math import sqrt\n",
    "import numpy as np\n",
    "\n",
    "def process_files(directory):\n",
    "    # 初始化一个空的DataFrame来收集所有数据\n",
    "    all_data = pd.DataFrame(columns=['x channel', 'ymin', 'ymax', 'vmin', 'vmax', 'slope', 'length', 'class'])\n",
    "\n",
    "    # 遍历指定目录下的所有文件\n",
    "    for filename in os.listdir(directory):\n",
    "        if filename.startswith(\"12CO_\") and filename.endswith(\"_fila.txt\"):\n",
    "            x_channel = int(filename.split('_')[1][1:])  # 提取x channel的值\n",
    "            file_path = os.path.join(directory, filename)\n",
    "            with open(file_path, 'r') as file:\n",
    "                next(file)  # 跳过第一行\n",
    "                for line in file:\n",
    "                    ymin, ymax, vmin, vmax = map(int, line.split())\n",
    "                    # 计算斜率和几何长度\n",
    "                    if (ymax - ymin) != 0:\n",
    "                        slope = round((vmax - vmin) / (ymax - ymin), 4)\n",
    "                    else:\n",
    "                        slope = 0\n",
    "                    length = round(sqrt((ymax - ymin)**2 + (vmax - vmin)**2), 4)\n",
    "                    # 二分分类\n",
    "                    binary_class = 1 if length >= 20 else 0\n",
    "                    # 添加数据到DataFrame\n",
    "                    all_data = all_data.append({\n",
    "                        'x channel': x_channel,\n",
    "                        'ymin': ymin,\n",
    "                        'ymax': ymax,\n",
    "                        'vmin': vmin,\n",
    "                        'vmax': vmax,\n",
    "                        'slope': slope,\n",
    "                        'length': length,\n",
    "                        'class': binary_class\n",
    "                    }, ignore_index=True)\n",
    "\n",
    "    # 排序\n",
    "    all_data = all_data.sort_values(by=['x channel', 'ymin'])\n",
    "\n",
    "    # 计算总结构数\n",
    "    total_structures = len(all_data)\n",
    "\n",
    "    # 添加 total 结构数列\n",
    "    total_column_name = f'total: {total_structures}'  # 创建带总数的列名\n",
    "    all_data[total_column_name] = np.nan  # 为所有行添加空值\n",
    "\n",
    "    # 保存DataFrame到CSV文件\n",
    "    output_path = os.path.join(directory, 'location-20.csv')  # 使用directory变量定义输出路径\n",
    "    all_data.to_csv(output_path, index=False)\n",
    "\n",
    "# 使用示例\n",
    "directory = '/Users/naoj306/Desktop/find/aquila_12/location/nonan_diff_1-99_3-3'\n",
    "\n",
    "process_files(directory)\n"
   ],
   "metadata": {
    "collapsed": false
   },
   "id": "1ee7eb38574eed6c",
   "execution_count": null
  },
  {
   "cell_type": "markdown",
   "source": [
    "add hms degree to csv"
   ],
   "metadata": {
    "collapsed": false
   },
   "id": "caf54f6c48c6cb8e"
  },
  {
   "cell_type": "code",
   "outputs": [],
   "source": [
    "from astropy.io import fits\n",
    "from astropy.wcs import WCS\n",
    "import pandas as pd\n",
    "import os\n",
    "\n",
    "def add_astronomical_coords_and_velocity(csv_path, fits_path, output_csv_path):\n",
    "    with fits.open(fits_path) as hdul:\n",
    "        header = hdul[0].header\n",
    "        wcs = WCS(header)\n",
    "\n",
    "    df = pd.read_csv(csv_path)\n",
    "\n",
    "    # 遍历CSV中的每一行\n",
    "    for index, row in df.iterrows():\n",
    "        x = row['x channel']\n",
    "        ymin = row['ymin']\n",
    "        ymax = row['ymax']\n",
    "        vmin = row['vmin']\n",
    "        vmax = row['vmax']\n",
    "\n",
    "        # 获取WCS转换结果\n",
    "        result_ymin = wcs.pixel_to_world(x, ymin, vmin)\n",
    "        result_ymax = wcs.pixel_to_world(x, ymax, vmax)\n",
    "\n",
    "        # 检查返回值类型并提取SkyCoord对象\n",
    "        if isinstance(result_ymin, WCS):\n",
    "            sky_coord_ymin = result_ymin\n",
    "            sky_coord_ymax = result_ymax\n",
    "        else:\n",
    "            sky_coord_ymin = result_ymin[0]\n",
    "            sky_coord_ymax = result_ymax[0]\n",
    "\n",
    "        # 存储转换后的坐标和速度值\n",
    "        df.at[index, 'x(hms)'] = sky_coord_ymin.ra.to_string(unit='hour', sep=':')\n",
    "        df.at[index, 'x(degree)'] = sky_coord_ymin.ra.deg\n",
    "        df.at[index, 'ymin(hms)'] = sky_coord_ymin.dec.to_string(unit='degree', sep=':')\n",
    "        df.at[index, 'ymin(degree)'] = sky_coord_ymin.dec.deg\n",
    "        df.at[index, 'ymax(hms)'] = sky_coord_ymax.dec.to_string(unit='degree', sep=':')\n",
    "        df.at[index, 'ymax(degree)'] = sky_coord_ymax.dec.deg\n",
    "        # df.at[index, 'vmin(km/s)'] = (sky_coord_ymin.radial_velocity.to('m/s') / 1000.0).value if sky_coord_ymin.radial_velocity else None\n",
    "        # df.at[index, 'vmax(km/s)'] = (sky_coord_ymax.radial_velocity.to('m/s') / 1000.0).value if sky_coord_ymax.radial_velocity else None\n",
    "\n",
    "    output_full_path = os.path.join(output_csv_path, 'location-30_wcs.csv')\n",
    "    if not os.path.exists(output_csv_path):\n",
    "        os.makedirs(output_csv_path)\n",
    "    \n",
    "    df.to_csv(output_full_path, index=False)\n",
    "\n",
    "csv_path = '/Users/naoj306/Desktop/find/aquila_12/location/nonan_diff_1-99_3-3/location-30.csv'\n",
    "fits_path = '/Users/naoj306/Desktop/DB/SFP/AquilaRift_12CO_21.7arcsec_vel0.1_sph_v1.0.fits'\n",
    "output_csv_path = '/Users/naoj306/Desktop/find/aquila_12/location/nonan_diff_1-99_3-3/'\n",
    "add_astronomical_coords_and_velocity(csv_path, fits_path, output_csv_path)\n"
   ],
   "metadata": {
    "collapsed": false
   },
   "id": "4f82236e0e18b956",
   "execution_count": null
  }
 ],
 "metadata": {
  "kernelspec": {
   "display_name": "Python 3",
   "language": "python",
   "name": "python3"
  },
  "language_info": {
   "codemirror_mode": {
    "name": "ipython",
    "version": 2
   },
   "file_extension": ".py",
   "mimetype": "text/x-python",
   "name": "python",
   "nbconvert_exporter": "python",
   "pygments_lexer": "ipython2",
   "version": "2.7.6"
  }
 },
 "nbformat": 4,
 "nbformat_minor": 5
}
